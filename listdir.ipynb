{
 "cells": [
  {
   "cell_type": "code",
   "execution_count": 6,
   "metadata": {},
   "outputs": [
    {
     "name": "stdout",
     "output_type": "stream",
     "text": [
      "['CSCO.csv', 'BA.csv', 'V.csv', 'UTX.csv', 'MRK.csv', 'PG.csv', 'CAT.csv', 'MCD.csv', 'INTC.csv', 'MMM.csv', 'DWDP.csv', 'KO.csv', 'MSFT.csv', 'HD.csv', 'AXP.csv', 'XOM.csv', 'CVX.csv', 'NKE.csv', 'IBM.csv', 'GS.csv', 'DIS.csv', 'GE.csv', 'JPM.csv', 'SPY.csv', 'PFE.csv', 'VZ.csv', 'UNH.csv', 'AAPL.csv', 'WMT.csv', 'TRV.csv', 'JNJ.csv']\n"
     ]
    }
   ],
   "source": [
    "import os\n",
    "\n",
    "if 0:\n",
    "    my_dir = './data/dow30'\n",
    "elif 1:\n",
    "    my_dir = 'data/dow30'\n",
    "elif 1:\n",
    "    my_dir = '/Users/sungchul/Dropbox/Git/financial_math/portfolio_optimization/data/dow30'\n",
    "    \n",
    "my_list = os.listdir(my_dir)\n",
    "print(my_list)"
   ]
  },
  {
   "cell_type": "code",
   "execution_count": 7,
   "metadata": {},
   "outputs": [
    {
     "name": "stdout",
     "output_type": "stream",
     "text": [
      "['CSCO', 'BA', 'V', 'UTX', 'MRK', 'PG', 'CAT', 'MCD', 'INTC', 'MMM', 'DWDP', 'KO', 'MSFT', 'HD', 'AXP', 'XOM', 'CVX', 'NKE', 'IBM', 'GS', 'DIS', 'GE', 'JPM', 'SPY', 'PFE', 'VZ', 'UNH', 'AAPL', 'WMT', 'TRV', 'JNJ']\n"
     ]
    }
   ],
   "source": [
    "ticker_list = []\n",
    "for csv_file_name in my_list:\n",
    "    tmp = csv_file_name.replace('.csv', '')\n",
    "    ticker_list.append(tmp)\n",
    "print(ticker_list)    "
   ]
  },
  {
   "cell_type": "code",
   "execution_count": null,
   "metadata": {},
   "outputs": [],
   "source": []
  }
 ],
 "metadata": {
  "kernelspec": {
   "display_name": "Python 3",
   "language": "python",
   "name": "python3"
  },
  "language_info": {
   "codemirror_mode": {
    "name": "ipython",
    "version": 3
   },
   "file_extension": ".py",
   "mimetype": "text/x-python",
   "name": "python",
   "nbconvert_exporter": "python",
   "pygments_lexer": "ipython3",
   "version": "3.7.3"
  }
 },
 "nbformat": 4,
 "nbformat_minor": 2
}
